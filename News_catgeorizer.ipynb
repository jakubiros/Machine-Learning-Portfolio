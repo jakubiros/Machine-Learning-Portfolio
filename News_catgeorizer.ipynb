{
 "cells": [
  {
   "cell_type": "raw",
   "metadata": {},
   "source": [
    "Projekt polegający na określeniu kategorii nagłówka do jakiej tekst przynależy sposród 41 możliwych. \n",
    "Zbiór danych do pobrania dostępny tutaj: https://www.kaggle.com/rmisra/news-category-dataset"
   ]
  },
  {
   "cell_type": "code",
   "execution_count": 1,
   "metadata": {},
   "outputs": [],
   "source": [
    "import json\n",
    "import os\n",
    "import numpy as np\n",
    "import tensorflow as tf\n",
    "import string\n",
    "import pandas as pd\n",
    "import matplotlib.pyplot as plt\n",
    "import seaborn as sns\n",
    "from sklearn import metrics\n",
    "from tensorflow.keras.layers import Input,Dense, Embedding, LSTM,Flatten,Dropout, Bidirectional\n",
    "from tensorflow.keras.preprocessing.text import Tokenizer\n",
    "from tensorflow.keras.preprocessing.sequence import pad_sequences\n",
    "from tensorflow.keras.models import Model\n",
    "from tensorflow.keras.optimizers import Adam\n",
    "from tensorflow.keras.callbacks import EarlyStopping\n",
    "from tensorflow.keras import mixed_precision\n",
    "from collections import Counter\n",
    "plt.rcParams['figure.figsize']=20,10"
   ]
  },
  {
   "cell_type": "code",
   "execution_count": 2,
   "metadata": {},
   "outputs": [],
   "source": [
    "##Inicjalizacja akceleratora GPU\n",
    "gpus = tf.config.experimental.list_physical_devices('GPU')\n",
    "for gpu in gpus:\n",
    "    tf.config.experimental.set_memory_growth(gpu, True)"
   ]
  },
  {
   "cell_type": "code",
   "execution_count": 3,
   "metadata": {},
   "outputs": [
    {
     "name": "stdout",
     "output_type": "stream",
     "text": [
      "INFO:tensorflow:Mixed precision compatibility check (mixed_float16): OK\n",
      "Your GPU will likely run quickly with dtype policy mixed_float16 as it has compute capability of at least 7.0. Your GPU: NVIDIA GeForce RTX 3070, compute capability 8.6\n"
     ]
    }
   ],
   "source": [
    "#Korzystanie z połowicznej precyzji, która przyśpiesza proces trenowania sieci zachowując tą samą skuteczność co przy \n",
    "#pojedynczej precyzji\n",
    "policy=mixed_precision.Policy('mixed_float16')\n",
    "mixed_precision.set_global_policy(policy)"
   ]
  },
  {
   "cell_type": "code",
   "execution_count": 3,
   "metadata": {},
   "outputs": [],
   "source": [
    "#Wczytanie zbioru danych pliku json\n",
    "df=pd.read_json('C:/Users/komej/Downloads/News_Category.json',lines=True)"
   ]
  },
  {
   "cell_type": "code",
   "execution_count": 4,
   "metadata": {},
   "outputs": [
    {
     "data": {
      "text/html": [
       "<div>\n",
       "<style scoped>\n",
       "    .dataframe tbody tr th:only-of-type {\n",
       "        vertical-align: middle;\n",
       "    }\n",
       "\n",
       "    .dataframe tbody tr th {\n",
       "        vertical-align: top;\n",
       "    }\n",
       "\n",
       "    .dataframe thead th {\n",
       "        text-align: right;\n",
       "    }\n",
       "</style>\n",
       "<table border=\"1\" class=\"dataframe\">\n",
       "  <thead>\n",
       "    <tr style=\"text-align: right;\">\n",
       "      <th></th>\n",
       "      <th>category</th>\n",
       "      <th>headline</th>\n",
       "      <th>authors</th>\n",
       "      <th>link</th>\n",
       "      <th>short_description</th>\n",
       "      <th>date</th>\n",
       "    </tr>\n",
       "  </thead>\n",
       "  <tbody>\n",
       "    <tr>\n",
       "      <th>0</th>\n",
       "      <td>CRIME</td>\n",
       "      <td>There Were 2 Mass Shootings In Texas Last Week...</td>\n",
       "      <td>Melissa Jeltsen</td>\n",
       "      <td>https://www.huffingtonpost.com/entry/texas-ama...</td>\n",
       "      <td>She left her husband. He killed their children...</td>\n",
       "      <td>2018-05-26</td>\n",
       "    </tr>\n",
       "    <tr>\n",
       "      <th>1</th>\n",
       "      <td>ENTERTAINMENT</td>\n",
       "      <td>Will Smith Joins Diplo And Nicky Jam For The 2...</td>\n",
       "      <td>Andy McDonald</td>\n",
       "      <td>https://www.huffingtonpost.com/entry/will-smit...</td>\n",
       "      <td>Of course it has a song.</td>\n",
       "      <td>2018-05-26</td>\n",
       "    </tr>\n",
       "    <tr>\n",
       "      <th>2</th>\n",
       "      <td>ENTERTAINMENT</td>\n",
       "      <td>Hugh Grant Marries For The First Time At Age 57</td>\n",
       "      <td>Ron Dicker</td>\n",
       "      <td>https://www.huffingtonpost.com/entry/hugh-gran...</td>\n",
       "      <td>The actor and his longtime girlfriend Anna Ebe...</td>\n",
       "      <td>2018-05-26</td>\n",
       "    </tr>\n",
       "    <tr>\n",
       "      <th>3</th>\n",
       "      <td>ENTERTAINMENT</td>\n",
       "      <td>Jim Carrey Blasts 'Castrato' Adam Schiff And D...</td>\n",
       "      <td>Ron Dicker</td>\n",
       "      <td>https://www.huffingtonpost.com/entry/jim-carre...</td>\n",
       "      <td>The actor gives Dems an ass-kicking for not fi...</td>\n",
       "      <td>2018-05-26</td>\n",
       "    </tr>\n",
       "    <tr>\n",
       "      <th>4</th>\n",
       "      <td>ENTERTAINMENT</td>\n",
       "      <td>Julianna Margulies Uses Donald Trump Poop Bags...</td>\n",
       "      <td>Ron Dicker</td>\n",
       "      <td>https://www.huffingtonpost.com/entry/julianna-...</td>\n",
       "      <td>The \"Dietland\" actress said using the bags is ...</td>\n",
       "      <td>2018-05-26</td>\n",
       "    </tr>\n",
       "    <tr>\n",
       "      <th>5</th>\n",
       "      <td>ENTERTAINMENT</td>\n",
       "      <td>Morgan Freeman 'Devastated' That Sexual Harass...</td>\n",
       "      <td>Ron Dicker</td>\n",
       "      <td>https://www.huffingtonpost.com/entry/morgan-fr...</td>\n",
       "      <td>\"It is not right to equate horrific incidents ...</td>\n",
       "      <td>2018-05-26</td>\n",
       "    </tr>\n",
       "    <tr>\n",
       "      <th>6</th>\n",
       "      <td>ENTERTAINMENT</td>\n",
       "      <td>Donald Trump Is Lovin' New McDonald's Jingle I...</td>\n",
       "      <td>Ron Dicker</td>\n",
       "      <td>https://www.huffingtonpost.com/entry/donald-tr...</td>\n",
       "      <td>It's catchy, all right.</td>\n",
       "      <td>2018-05-26</td>\n",
       "    </tr>\n",
       "    <tr>\n",
       "      <th>7</th>\n",
       "      <td>ENTERTAINMENT</td>\n",
       "      <td>What To Watch On Amazon Prime That’s New This ...</td>\n",
       "      <td>Todd Van Luling</td>\n",
       "      <td>https://www.huffingtonpost.com/entry/amazon-pr...</td>\n",
       "      <td>There's a great mini-series joining this week.</td>\n",
       "      <td>2018-05-26</td>\n",
       "    </tr>\n",
       "    <tr>\n",
       "      <th>8</th>\n",
       "      <td>ENTERTAINMENT</td>\n",
       "      <td>Mike Myers Reveals He'd 'Like To' Do A Fourth ...</td>\n",
       "      <td>Andy McDonald</td>\n",
       "      <td>https://www.huffingtonpost.com/entry/mike-myer...</td>\n",
       "      <td>Myer's kids may be pushing for a new \"Powers\" ...</td>\n",
       "      <td>2018-05-26</td>\n",
       "    </tr>\n",
       "    <tr>\n",
       "      <th>9</th>\n",
       "      <td>ENTERTAINMENT</td>\n",
       "      <td>What To Watch On Hulu That’s New This Week</td>\n",
       "      <td>Todd Van Luling</td>\n",
       "      <td>https://www.huffingtonpost.com/entry/hulu-what...</td>\n",
       "      <td>You're getting a recent Academy Award-winning ...</td>\n",
       "      <td>2018-05-26</td>\n",
       "    </tr>\n",
       "    <tr>\n",
       "      <th>10</th>\n",
       "      <td>ENTERTAINMENT</td>\n",
       "      <td>Justin Timberlake Visits Texas School Shooting...</td>\n",
       "      <td>Sebastian Murdock</td>\n",
       "      <td>https://www.huffingtonpost.com/entry/justin-ti...</td>\n",
       "      <td>The pop star also wore a \"Santa Fe Strong\" shi...</td>\n",
       "      <td>2018-05-26</td>\n",
       "    </tr>\n",
       "    <tr>\n",
       "      <th>11</th>\n",
       "      <td>WORLD NEWS</td>\n",
       "      <td>South Korean President Meets North Korea's Kim...</td>\n",
       "      <td></td>\n",
       "      <td>https://www.huffingtonpost.com/entry/south-kor...</td>\n",
       "      <td>The two met to pave the way for a summit betwe...</td>\n",
       "      <td>2018-05-26</td>\n",
       "    </tr>\n",
       "    <tr>\n",
       "      <th>12</th>\n",
       "      <td>IMPACT</td>\n",
       "      <td>With Its Way Of Life At Risk, This Remote Oyst...</td>\n",
       "      <td>Karen Pinchin</td>\n",
       "      <td>https://www.huffingtonpost.com/entry/remote-oy...</td>\n",
       "      <td>The revolution is coming to rural New Brunswick.</td>\n",
       "      <td>2018-05-26</td>\n",
       "    </tr>\n",
       "    <tr>\n",
       "      <th>13</th>\n",
       "      <td>POLITICS</td>\n",
       "      <td>Trump's Crackdown On Immigrant Parents Puts Mo...</td>\n",
       "      <td>Elise Foley and Roque Planas</td>\n",
       "      <td>https://www.huffingtonpost.com/entry/immigrant...</td>\n",
       "      <td>Last month a Health and Human Services officia...</td>\n",
       "      <td>2018-05-26</td>\n",
       "    </tr>\n",
       "    <tr>\n",
       "      <th>14</th>\n",
       "      <td>POLITICS</td>\n",
       "      <td>'Trump's Son Should Be Concerned': FBI Obtaine...</td>\n",
       "      <td>Michael Isikoff, Yahoo News</td>\n",
       "      <td>https://www.huffingtonpost.com/entry/fbi-wiret...</td>\n",
       "      <td>The wiretaps feature conversations between Ale...</td>\n",
       "      <td>2018-05-26</td>\n",
       "    </tr>\n",
       "  </tbody>\n",
       "</table>\n",
       "</div>"
      ],
      "text/plain": [
       "         category                                           headline  \\\n",
       "0           CRIME  There Were 2 Mass Shootings In Texas Last Week...   \n",
       "1   ENTERTAINMENT  Will Smith Joins Diplo And Nicky Jam For The 2...   \n",
       "2   ENTERTAINMENT    Hugh Grant Marries For The First Time At Age 57   \n",
       "3   ENTERTAINMENT  Jim Carrey Blasts 'Castrato' Adam Schiff And D...   \n",
       "4   ENTERTAINMENT  Julianna Margulies Uses Donald Trump Poop Bags...   \n",
       "5   ENTERTAINMENT  Morgan Freeman 'Devastated' That Sexual Harass...   \n",
       "6   ENTERTAINMENT  Donald Trump Is Lovin' New McDonald's Jingle I...   \n",
       "7   ENTERTAINMENT  What To Watch On Amazon Prime That’s New This ...   \n",
       "8   ENTERTAINMENT  Mike Myers Reveals He'd 'Like To' Do A Fourth ...   \n",
       "9   ENTERTAINMENT         What To Watch On Hulu That’s New This Week   \n",
       "10  ENTERTAINMENT  Justin Timberlake Visits Texas School Shooting...   \n",
       "11     WORLD NEWS  South Korean President Meets North Korea's Kim...   \n",
       "12         IMPACT  With Its Way Of Life At Risk, This Remote Oyst...   \n",
       "13       POLITICS  Trump's Crackdown On Immigrant Parents Puts Mo...   \n",
       "14       POLITICS  'Trump's Son Should Be Concerned': FBI Obtaine...   \n",
       "\n",
       "                         authors  \\\n",
       "0                Melissa Jeltsen   \n",
       "1                  Andy McDonald   \n",
       "2                     Ron Dicker   \n",
       "3                     Ron Dicker   \n",
       "4                     Ron Dicker   \n",
       "5                     Ron Dicker   \n",
       "6                     Ron Dicker   \n",
       "7                Todd Van Luling   \n",
       "8                  Andy McDonald   \n",
       "9                Todd Van Luling   \n",
       "10             Sebastian Murdock   \n",
       "11                                 \n",
       "12                 Karen Pinchin   \n",
       "13  Elise Foley and Roque Planas   \n",
       "14   Michael Isikoff, Yahoo News   \n",
       "\n",
       "                                                 link  \\\n",
       "0   https://www.huffingtonpost.com/entry/texas-ama...   \n",
       "1   https://www.huffingtonpost.com/entry/will-smit...   \n",
       "2   https://www.huffingtonpost.com/entry/hugh-gran...   \n",
       "3   https://www.huffingtonpost.com/entry/jim-carre...   \n",
       "4   https://www.huffingtonpost.com/entry/julianna-...   \n",
       "5   https://www.huffingtonpost.com/entry/morgan-fr...   \n",
       "6   https://www.huffingtonpost.com/entry/donald-tr...   \n",
       "7   https://www.huffingtonpost.com/entry/amazon-pr...   \n",
       "8   https://www.huffingtonpost.com/entry/mike-myer...   \n",
       "9   https://www.huffingtonpost.com/entry/hulu-what...   \n",
       "10  https://www.huffingtonpost.com/entry/justin-ti...   \n",
       "11  https://www.huffingtonpost.com/entry/south-kor...   \n",
       "12  https://www.huffingtonpost.com/entry/remote-oy...   \n",
       "13  https://www.huffingtonpost.com/entry/immigrant...   \n",
       "14  https://www.huffingtonpost.com/entry/fbi-wiret...   \n",
       "\n",
       "                                    short_description       date  \n",
       "0   She left her husband. He killed their children... 2018-05-26  \n",
       "1                            Of course it has a song. 2018-05-26  \n",
       "2   The actor and his longtime girlfriend Anna Ebe... 2018-05-26  \n",
       "3   The actor gives Dems an ass-kicking for not fi... 2018-05-26  \n",
       "4   The \"Dietland\" actress said using the bags is ... 2018-05-26  \n",
       "5   \"It is not right to equate horrific incidents ... 2018-05-26  \n",
       "6                             It's catchy, all right. 2018-05-26  \n",
       "7      There's a great mini-series joining this week. 2018-05-26  \n",
       "8   Myer's kids may be pushing for a new \"Powers\" ... 2018-05-26  \n",
       "9   You're getting a recent Academy Award-winning ... 2018-05-26  \n",
       "10  The pop star also wore a \"Santa Fe Strong\" shi... 2018-05-26  \n",
       "11  The two met to pave the way for a summit betwe... 2018-05-26  \n",
       "12   The revolution is coming to rural New Brunswick. 2018-05-26  \n",
       "13  Last month a Health and Human Services officia... 2018-05-26  \n",
       "14  The wiretaps feature conversations between Ale... 2018-05-26  "
      ]
     },
     "execution_count": 4,
     "metadata": {},
     "output_type": "execute_result"
    }
   ],
   "source": [
    "df.head(15)"
   ]
  },
  {
   "cell_type": "code",
   "execution_count": 5,
   "metadata": {},
   "outputs": [
    {
     "data": {
      "text/plain": [
       "(array([ 0,  1,  2,  3,  4,  5,  6,  7,  8,  9, 10, 11, 12, 13, 14, 15, 16,\n",
       "        17, 18, 19, 20, 21, 22, 23, 24, 25, 26, 27, 28, 29, 30, 31, 32, 33,\n",
       "        34, 35, 36, 37, 38, 39, 40]),\n",
       " <a list of 41 Text major ticklabel objects>)"
      ]
     },
     "execution_count": 5,
     "metadata": {},
     "output_type": "execute_result"
    },
    {
     "data": {
      "image/png": "[encoded data removed]",
      "text/plain": [
       "<Figure size 1440x720 with 1 Axes>"
      ]
     },
     "metadata": {
      "needs_background": "light"
     },
     "output_type": "display_data"
    }
   ],
   "source": [
    "sns.countplot(x=df['category'])\n",
    "plt.xticks(rotation=90)"
   ]
  },
  {
   "cell_type": "code",
   "execution_count": 6,
   "metadata": {},
   "outputs": [],
   "source": [
    "#Tworzenie unikalnej liczby dla każdej kategorii\n",
    "mapping=dict(enumerate(df['category'].unique()))\n",
    "label_map={value:key for key,value in mapping.items()}"
   ]
  },
  {
   "cell_type": "code",
   "execution_count": 7,
   "metadata": {
    "scrolled": true
   },
   "outputs": [
    {
     "data": {
      "text/plain": [
       "{'CRIME': 0,\n",
       " 'ENTERTAINMENT': 1,\n",
       " 'WORLD NEWS': 2,\n",
       " 'IMPACT': 3,\n",
       " 'POLITICS': 4,\n",
       " 'WEIRD NEWS': 5,\n",
       " 'BLACK VOICES': 6,\n",
       " 'WOMEN': 7,\n",
       " 'COMEDY': 8,\n",
       " 'QUEER VOICES': 9,\n",
       " 'SPORTS': 10,\n",
       " 'BUSINESS': 11,\n",
       " 'TRAVEL': 12,\n",
       " 'MEDIA': 13,\n",
       " 'TECH': 14,\n",
       " 'RELIGION': 15,\n",
       " 'SCIENCE': 16,\n",
       " 'LATINO VOICES': 17,\n",
       " 'EDUCATION': 18,\n",
       " 'COLLEGE': 19,\n",
       " 'PARENTS': 20,\n",
       " 'ARTS & CULTURE': 21,\n",
       " 'STYLE': 22,\n",
       " 'GREEN': 23,\n",
       " 'TASTE': 24,\n",
       " 'HEALTHY LIVING': 25,\n",
       " 'THE WORLDPOST': 26,\n",
       " 'GOOD NEWS': 27,\n",
       " 'WORLDPOST': 28,\n",
       " 'FIFTY': 29,\n",
       " 'ARTS': 30,\n",
       " 'WELLNESS': 31,\n",
       " 'PARENTING': 32,\n",
       " 'HOME & LIVING': 33,\n",
       " 'STYLE & BEAUTY': 34,\n",
       " 'DIVORCE': 35,\n",
       " 'WEDDINGS': 36,\n",
       " 'FOOD & DRINK': 37,\n",
       " 'MONEY': 38,\n",
       " 'ENVIRONMENT': 39,\n",
       " 'CULTURE & ARTS': 40}"
      ]
     },
     "execution_count": 7,
     "metadata": {},
     "output_type": "execute_result"
    }
   ],
   "source": [
    "label_map"
   ]
  },
  {
   "cell_type": "code",
   "execution_count": 8,
   "metadata": {},
   "outputs": [],
   "source": [
    "df['category']=df['category'].replace(label_map)"
   ]
  },
  {
   "cell_type": "code",
   "execution_count": 9,
   "metadata": {},
   "outputs": [],
   "source": [
    "#Funkcja dzięki której z tekstu usuwana jest interpunkcja\n",
    "def remove_punct(text):\n",
    "    transaltor=str.maketrans(\"\",\"\",string.punctuation)\n",
    "    return text.translate(transaltor)\n",
    "def lowercase(inp):\n",
    "    return inp.lower()"
   ]
  },
  {
   "cell_type": "code",
   "execution_count": 10,
   "metadata": {},
   "outputs": [],
   "source": [
    "#Funkcja która liczy wszystkie słowa\n",
    "def counter_words(text):\n",
    "    count=Counter()\n",
    "    for txt in text.values:\n",
    "        for word in txt.split():\n",
    "            count[word] +=1\n",
    "    return count\n",
    "counter=counter_words(df.headline)"
   ]
  },
  {
   "cell_type": "code",
   "execution_count": 11,
   "metadata": {},
   "outputs": [],
   "source": [
    "num_unique_words=len(counter)"
   ]
  },
  {
   "cell_type": "code",
   "execution_count": 12,
   "metadata": {},
   "outputs": [
    {
     "data": {
      "text/plain": [
       "119488"
      ]
     },
     "execution_count": 12,
     "metadata": {},
     "output_type": "execute_result"
    }
   ],
   "source": [
    "num_unique_words"
   ]
  },
  {
   "cell_type": "code",
   "execution_count": 13,
   "metadata": {},
   "outputs": [],
   "source": [
    "df['headline']=df.headline.map(remove_punct)\n",
    "df['headline']=df.headline.map(lowercase)"
   ]
  },
  {
   "cell_type": "code",
   "execution_count": 14,
   "metadata": {},
   "outputs": [],
   "source": [
    "#Dzielenie zbioru danych na część przeznaczoną do trenowania sieci i część do jej późniejszego oceniania \n",
    "train_size=int(df.shape[0]*0.9)\n",
    "\n",
    "train_df=df[:train_size]\n",
    "val_df=df[train_size:]\n",
    "\n",
    "train_sentences=train_df.headline.to_numpy()\n",
    "train_labels=train_df.category.to_numpy()\n",
    "val_sentences=val_df.headline.to_numpy()\n",
    "val_labels=val_df.category.to_numpy()"
   ]
  },
  {
   "cell_type": "code",
   "execution_count": 15,
   "metadata": {},
   "outputs": [],
   "source": [
    "#W tym miejscu jest tworzony indeks słownictwa, gdzie każdy wyraz ma przypisaną unikalną liczbe\n",
    "tokenizer=Tokenizer(num_words=num_unique_words)\n",
    "tokenizer.fit_on_texts(train_sentences)\n",
    "word_index=tokenizer.word_index"
   ]
  },
  {
   "cell_type": "code",
   "execution_count": 16,
   "metadata": {},
   "outputs": [],
   "source": [
    "#Zamienia tekst na sekwencję liczb\n",
    "train_sequences=tokenizer.texts_to_sequences(train_sentences)\n",
    "val_sequences=tokenizer.texts_to_sequences(val_sentences)\n"
   ]
  },
  {
   "cell_type": "code",
   "execution_count": 17,
   "metadata": {},
   "outputs": [],
   "source": [
    "#Zapewnia wszystkim sekwencjom jednakową długość\n",
    "train_padd=pad_sequences(train_sequences,padding='post',truncating='post',maxlen=35)\n",
    "val_padd=pad_sequences(val_sequences,padding='post',truncating='post',maxlen=35)"
   ]
  },
  {
   "cell_type": "code",
   "execution_count": 18,
   "metadata": {},
   "outputs": [],
   "source": [
    "num_cls=len(label_map)"
   ]
  },
  {
   "cell_type": "raw",
   "metadata": {},
   "source": [
    "Sieć skłądająca się z warstwy Embedding i LSTM pozwalająca przetwarzać sekwencje tekstów. Warstwa Flatten aby przedstawić wszystko w 1-wymiarowej przestrzeni żeby mogło być przetwarzane przez warstwy Dense."
   ]
  },
  {
   "cell_type": "code",
   "execution_count": 19,
   "metadata": {},
   "outputs": [],
   "source": [
    "inp=Input(shape=(train_padd[1].shape))\n",
    "x1=Embedding(num_unique_words,64)(inp)\n",
    "x2=Bidirectional(LSTM(64,return_sequences=True))(x1)\n",
    "x3=Bidirectional(LSTM(64,return_sequences=True))(x2)\n",
    "x4=Flatten()(x3)\n",
    "d1=Dense(96,activation='relu')(x4)\n",
    "dr=Dropout(0.2)(d1)\n",
    "d2=Dense(64,activation='relu')(dr)\n",
    "dr2=Dropout(0.2)(d2)\n",
    "out=Dense(num_cls,activation='softmax')(dr2)"
   ]
  },
  {
   "cell_type": "code",
   "execution_count": 20,
   "metadata": {},
   "outputs": [],
   "source": [
    "model=Model(inp,out,name='NLP3')"
   ]
  },
  {
   "cell_type": "code",
   "execution_count": 21,
   "metadata": {},
   "outputs": [
    {
     "name": "stdout",
     "output_type": "stream",
     "text": [
      "Model: \"NLP3\"\n",
      "_________________________________________________________________\n",
      " Layer (type)                Output Shape              Param #   \n",
      "=================================================================\n",
      " input_1 (InputLayer)        [(None, 35)]              0         \n",
      "                                                                 \n",
      " embedding (Embedding)       (None, 35, 64)            7647232   \n",
      "                                                                 \n",
      " bidirectional (Bidirectiona  (None, 35, 128)          66048     \n",
      " l)                                                              \n",
      "                                                                 \n",
      " bidirectional_1 (Bidirectio  (None, 35, 128)          98816     \n",
      " nal)                                                            \n",
      "                                                                 \n",
      " flatten (Flatten)           (None, 4480)              0         \n",
      "                                                                 \n",
      " dense (Dense)               (None, 96)                430176    \n",
      "                                                                 \n",
      " dropout (Dropout)           (None, 96)                0         \n",
      "                                                                 \n",
      " dense_1 (Dense)             (None, 64)                6208      \n",
      "                                                                 \n",
      " dropout_1 (Dropout)         (None, 64)                0         \n",
      "                                                                 \n",
      " dense_2 (Dense)             (None, 41)                2665      \n",
      "                                                                 \n",
      "=================================================================\n",
      "Total params: 8,251,145\n",
      "Trainable params: 8,251,145\n",
      "Non-trainable params: 0\n",
      "_________________________________________________________________\n"
     ]
    }
   ],
   "source": [
    "model.summary()"
   ]
  },
  {
   "cell_type": "code",
   "execution_count": 22,
   "metadata": {},
   "outputs": [],
   "source": [
    "#Monitorowanie spadku funkcji aby uzyskać jak najlepsze wyniki\n",
    "monitor=EarlyStopping(monitor='val_loss',min_delta=1e-3,patience=4,verbose=1,mode='auto',restore_best_weights=True)"
   ]
  },
  {
   "cell_type": "code",
   "execution_count": 25,
   "metadata": {},
   "outputs": [],
   "source": [
    "model.compile(loss='sparse_categorical_crossentropy',optimizer=Adam(learning_rate=1e-4),metrics=['accuracy'])"
   ]
  },
  {
   "cell_type": "code",
   "execution_count": 26,
   "metadata": {
    "scrolled": true
   },
   "outputs": [
    {
     "name": "stdout",
     "output_type": "stream",
     "text": [
      "Epoch 1/20\n",
      "5085/5085 [==============================] - 76s 14ms/step - loss: 2.8992 - accuracy: 0.2635 - val_loss: 2.7148 - val_accuracy: 0.3310\n",
      "Epoch 2/20\n",
      "5085/5085 [==============================] - 71s 14ms/step - loss: 2.4136 - accuracy: 0.3583 - val_loss: 2.3889 - val_accuracy: 0.4207\n",
      "Epoch 3/20\n",
      "5085/5085 [==============================] - 72s 14ms/step - loss: 2.1142 - accuracy: 0.4281 - val_loss: 2.1773 - val_accuracy: 0.4632\n",
      "Epoch 4/20\n",
      "5085/5085 [==============================] - 72s 14ms/step - loss: 1.9073 - accuracy: 0.4799 - val_loss: 2.1083 - val_accuracy: 0.5015\n",
      "Epoch 5/20\n",
      "5085/5085 [==============================] - 72s 14ms/step - loss: 1.7653 - accuracy: 0.5126 - val_loss: 2.0283 - val_accuracy: 0.5206\n",
      "Epoch 6/20\n",
      "5085/5085 [==============================] - 73s 14ms/step - loss: 1.6551 - accuracy: 0.5394 - val_loss: 2.0769 - val_accuracy: 0.5046\n",
      "Epoch 7/20\n",
      "5085/5085 [==============================] - 71s 14ms/step - loss: 1.5533 - accuracy: 0.5680 - val_loss: 2.1735 - val_accuracy: 0.4901\n",
      "Epoch 8/20\n",
      "5085/5085 [==============================] - 73s 14ms/step - loss: 1.4625 - accuracy: 0.5927 - val_loss: 2.1569 - val_accuracy: 0.4820\n",
      "Epoch 9/20\n",
      "5085/5085 [==============================] - ETA: 0s - loss: 1.3803 - accuracy: 0.6167Restoring model weights from the end of the best epoch: 5.\n",
      "5085/5085 [==============================] - 75s 15ms/step - loss: 1.3803 - accuracy: 0.6167 - val_loss: 2.1118 - val_accuracy: 0.5240\n",
      "Epoch 9: early stopping\n"
     ]
    }
   ],
   "source": [
    "history=model.fit(train_padd,train_labels,epochs=20,validation_split=0.1,callbacks=[monitor])"
   ]
  },
  {
   "cell_type": "code",
   "execution_count": 27,
   "metadata": {},
   "outputs": [
    {
     "data": {
      "text/plain": [
       "<matplotlib.legend.Legend at 0x216500f3670>"
      ]
     },
     "execution_count": 27,
     "metadata": {},
     "output_type": "execute_result"
    },
    {
     "data": {
      "image/png": "[encoded data removed]",
      "text/plain": [
       "<Figure size 1440x720 with 1 Axes>"
      ]
     },
     "metadata": {
      "needs_background": "light"
     },
     "output_type": "display_data"
    }
   ],
   "source": [
    "plt.plot(history.history['loss'],label='train')\n",
    "plt.plot(history.history['val_loss'],label='validation')\n",
    "plt.legend()"
   ]
  },
  {
   "cell_type": "code",
   "execution_count": 28,
   "metadata": {},
   "outputs": [
    {
     "data": {
      "text/plain": [
       "<matplotlib.legend.Legend at 0x21650457e50>"
      ]
     },
     "execution_count": 28,
     "metadata": {},
     "output_type": "execute_result"
    },
    {
     "data": {
      "image/png": "[encoded data removed]",
      "text/plain": [
       "<Figure size 1440x720 with 1 Axes>"
      ]
     },
     "metadata": {
      "needs_background": "light"
     },
     "output_type": "display_data"
    }
   ],
   "source": [
    "plt.plot(history.history['accuracy'],label='train')\n",
    "plt.plot(history.history['val_accuracy'],label='validation')\n",
    "plt.legend()"
   ]
  },
  {
   "cell_type": "code",
   "execution_count": 29,
   "metadata": {},
   "outputs": [
    {
     "name": "stdout",
     "output_type": "stream",
     "text": [
      "628/628 [==============================] - 4s 6ms/step - loss: 2.1695 - accuracy: 0.5046\n",
      "Dokładność: 50.46%\n"
     ]
    }
   ],
   "source": [
    "#Dokładność sieci na zbiorze testowym\n",
    "test_model=model.evaluate(val_padd,val_labels,verbose=1)\n",
    "print(f'Dokładność: {round(test_model[1]*100,2)}%')"
   ]
  },
  {
   "cell_type": "code",
   "execution_count": 30,
   "metadata": {},
   "outputs": [],
   "source": [
    "score_eval=model.predict(val_padd)"
   ]
  },
  {
   "cell_type": "code",
   "execution_count": 31,
   "metadata": {},
   "outputs": [
    {
     "name": "stdout",
     "output_type": "stream",
     "text": [
      "              precision    recall  f1-score   support\n",
      "\n",
      "           0       0.25      0.23      0.24       128\n",
      "           1       0.64      0.17      0.28      1264\n",
      "           3       0.03      0.07      0.05        97\n",
      "           4       1.00      0.00      0.00       896\n",
      "           5       1.00      0.00      0.00       219\n",
      "           6       0.03      0.15      0.05        47\n",
      "           7       1.00      0.00      0.00       178\n",
      "           8       0.21      0.65      0.32       111\n",
      "           9       0.51      0.44      0.47       332\n",
      "          10       0.58      0.24      0.34       256\n",
      "          11       0.32      0.18      0.23       704\n",
      "          12       0.59      0.64      0.61      1853\n",
      "          13       1.00      0.00      0.00        11\n",
      "          14       0.03      0.35      0.05        20\n",
      "          15       1.00      0.00      0.00        92\n",
      "          16       0.00      0.00      0.00         1\n",
      "          17       1.00      0.00      0.00         1\n",
      "          20       1.00      0.00      0.00       565\n",
      "          22       1.00      0.00      0.00       142\n",
      "          23       1.00      0.00      0.00       181\n",
      "          24       1.00      0.00      0.00       108\n",
      "          25       1.00      0.00      0.00       547\n",
      "          26       1.00      0.00      0.00        81\n",
      "          27       1.00      0.00      0.00         5\n",
      "          28       1.00      0.00      0.00        92\n",
      "          30       1.00      0.00      0.00       104\n",
      "          31       0.63      0.69      0.66      4194\n",
      "          32       0.39      0.54      0.45      1384\n",
      "          33       0.42      0.48      0.45       875\n",
      "          34       0.64      0.85      0.73      2860\n",
      "          35       0.55      0.76      0.63       607\n",
      "          36       0.64      0.75      0.69       852\n",
      "          37       0.70      0.54      0.61      1226\n",
      "          38       0.00      1.00      0.00         0\n",
      "          39       0.11      0.62      0.18        53\n",
      "          40       0.00      1.00      0.00         0\n",
      "\n",
      "    accuracy                           0.50     20086\n",
      "   macro avg       0.62      0.29      0.20     20086\n",
      "weighted avg       0.64      0.50      0.48     20086\n",
      "\n"
     ]
    }
   ],
   "source": [
    "print(metrics.classification_report(np.argmax(score_eval,1),val_labels,zero_division=1))"
   ]
  },
  {
   "cell_type": "markdown",
   "metadata": {},
   "source": [
    "Wyniki nie są zbytnio zadowalające, określenie 40stu kategorii dla sieci jest bardzo trudnym wyzwaniem. Aby poprawić ten wynik trzeba by było zredukować liczbę kategorii wpisów lub wykonać bardziej szczegółowe czyszczenie zbioru danych."
   ]
  },
  {
   "cell_type": "code",
   "execution_count": null,
   "metadata": {},
   "outputs": [],
   "source": []
  },
  {
   "cell_type": "code",
   "execution_count": 31,
   "metadata": {},
   "outputs": [],
   "source": [
    "model.save('C:/Users/komej/Downloads/category1.h5')"
   ]
  },
  {
   "cell_type": "code",
   "execution_count": null,
   "metadata": {},
   "outputs": [],
   "source": []
  },
  {
   "cell_type": "code",
   "execution_count": null,
   "metadata": {},
   "outputs": [],
   "source": []
  }
 ],
 "metadata": {
  "kernelspec": {
   "display_name": "keras 3.8",
   "language": "python",
   "name": "keras"
  },
  "language_info": {
   "codemirror_mode": {
    "name": "ipython",
    "version": 3
   },
   "file_extension": ".py",
   "mimetype": "text/x-python",
   "name": "python",
   "nbconvert_exporter": "python",
   "pygments_lexer": "ipython3",
   "version": "3.8.10"
  }
 },
 "nbformat": 4,
 "nbformat_minor": 4
}
